{
  "cells": [
    {
      "cell_type": "markdown",
      "metadata": {
        "id": "U9QyM3TGLZNM"
      },
      "source": [
        "## Importing Libraries"
      ]
    },
    {
      "cell_type": "code",
      "execution_count": null,
      "metadata": {
        "id": "0QgTkYKyLZNT"
      },
      "outputs": [],
      "source": [
        "# <==== Importing Neccesary libraries ===>\n",
        "import os\n",
        "import numpy as np\n",
        "from numpy import loadtxt\n",
        "import pandas as pd\n",
        "import matplotlib.pyplot as plt\n",
        "import seaborn as sns\n",
        "import itertools\n",
        "from PIL import Image\n",
        "import random\n",
        "from random import shuffle\n",
        "import cv2\n",
        "from tqdm import tqdm\n",
        "from PIL import Image\n",
        "from random import shuffle\n",
        "from scipy import interp\n",
        "from itertools import cycle\n",
        "\n",
        "# <==== Tensorflow & Machine Learning lib ===>\n",
        "from tensorflow.keras.preprocessing import image\n",
        "from tensorflow.keras.preprocessing.image import ImageDataGenerator\n",
        "from tensorflow.keras.models import Sequential\n",
        "from tensorflow.keras import Model, layers\n",
        "from tensorflow.keras.models import load_model\n",
        "from tensorflow.keras.utils import to_categorical\n",
        "from tensorflow.keras.applications.imagenet_utils import preprocess_input, decode_predictions\n",
        "from tensorflow.keras.layers import Conv2D,MaxPooling2D,Dense,Flatten,Dropout\n",
        "from tensorflow.keras.callbacks import EarlyStopping, ModelCheckpoint, ReduceLROnPlateau\n",
        "from tensorflow.keras.applications.mobilenet_v2 import MobileNetV2\n",
        "\n",
        "# <==== Performance Metrics ===>\n",
        "from sklearn.metrics import confusion_matrix,classification_report\n",
        "from sklearn.metrics import confusion_matrix, classification_report, accuracy_score\n",
        "from sklearn.datasets import make_classification\n",
        "from sklearn.preprocessing import label_binarize\n",
        "from sklearn.metrics import roc_curve, auc"
      ]
    },
    {
      "cell_type": "markdown",
      "metadata": {
        "id": "_V-XPTStLZNX"
      },
      "source": [
        "## Data Loading & Preprocessing"
      ]
    },
    {
      "cell_type": "code",
      "execution_count": null,
      "metadata": {
        "id": "2noAWv9pLZNY"
      },
      "outputs": [],
      "source": [
        "# <==== Setting path of directory ===>\n",
        "BASE_DIR = \"ISIC_2019_ML\"\n",
        "BCC_DIR = os.path.join(BASE_DIR, \"Bcc\")\n",
        "MELANOMA_DIR = os.path.join(BASE_DIR, \"Melanoma\")\n",
        "NAVUS_DIR = os.path.join(BASE_DIR, \"Navus\")\n",
        "I_VARIABLES_DIR = os.path.join(BASE_DIR, \"isic_vars\")"
      ]
    },
    {
      "cell_type": "code",
      "execution_count": null,
      "metadata": {
        "id": "e9TtwjFeLZNZ"
      },
      "outputs": [],
      "source": [
        "# Load saved variables and files\n",
        "\n",
        "loaded_len_data = np.load(I_VARIABLES_DIR + \"/len_data.npy\")\n",
        "loaded_test_len = np.load(I_VARIABLES_DIR + \"/test_len.npy\")\n",
        "loaded_x_test = np.load(I_VARIABLES_DIR + \"/x_test.npy\")\n",
        "loaded_y_test = np.load(I_VARIABLES_DIR + \"/y_test.npy\")\n",
        "loaded_num_classes = np.load(I_VARIABLES_DIR + \"/num_classes.npy\")\n",
        "loaded_train_len = np.load(I_VARIABLES_DIR + \"/train_len.npy\")\n",
        "loaded_x_train = np.load(I_VARIABLES_DIR + \"/x_train.npy\")\n",
        "loaded_y_train = np.load(I_VARIABLES_DIR + \"/y_train.npy\")\n"
      ]
    },
    {
      "cell_type": "code",
      "execution_count": null,
      "metadata": {
        "id": "2UPGAteJLZNa"
      },
      "outputs": [],
      "source": [
        "# Image augmentation: used here to increase the diversity of the training dataset\n",
        "\n",
        "image_data_generator = ImageDataGenerator(\n",
        "    featurewise_center=False,  # set input mean to 0 over the dataset\n",
        "    samplewise_center=False,  # set each sample mean to 0\n",
        "    featurewise_std_normalization=False,  # divide inputs by std of the dataset\n",
        "    samplewise_std_normalization=False,  # divide each input by its std\n",
        "    zca_whitening=False,  # apply ZCA whitening\n",
        "    rotation_range=10,  # randomly rotate images in the range (degrees, 0 to 180)\n",
        "    zoom_range=0.1,  # Randomly zoom image\n",
        "    width_shift_range=0.1,  # randomly shift images horizontally\n",
        "    height_shift_range=0.1,  # randomly shift images vertically\n",
        "    horizontal_flip=False,  # randomly flip images\n",
        "    vertical_flip=False\n",
        ")\n"
      ]
    },
    {
      "cell_type": "markdown",
      "metadata": {
        "id": "EakfRUeDLZNc"
      },
      "source": [
        "reference: https://keras.io/api/applications/mobilenet/\n",
        "\n",
        "reference: https://github.com/EhabR98/Transfer-Learning-with-MobileNetV2\n",
        "\n",
        "reference: https://tahera-firdose.medium.com/transfer-learning-with-mobilenet-cdafe54b5c42"
      ]
    },
    {
      "cell_type": "markdown",
      "metadata": {
        "id": "8aCLnDcTLZNd"
      },
      "source": [
        "## Model Building"
      ]
    },
    {
      "cell_type": "code",
      "execution_count": null,
      "metadata": {
        "id": "5mxXNoFPLZNe",
        "outputId": "8b479439-9255-4865-e9a2-707f476667d5"
      },
      "outputs": [
        {
          "name": "stdout",
          "output_type": "stream",
          "text": [
            "Downloading data from https://storage.googleapis.com/tensorflow/keras-applications/mobilenet_v2/mobilenet_v2_weights_tf_dim_ordering_tf_kernels_1.0_224_no_top.h5\n",
            "9412608/9406464 [==============================] - 1s 0us/step\n",
            "9420800/9406464 [==============================] - 1s 0us/step\n"
          ]
        }
      ],
      "source": [
        "# Loading the MobileNetV2 convolutional base with pre-trained weights\n",
        "\n",
        "mobile_net_base = MobileNetV2(\n",
        "    include_top=False,\n",
        "    input_shape=(224, 224, 3),\n",
        "    weights='imagenet')\n",
        "\n",
        "# Setting all layers in the convolutional base to be trainable\n",
        "for mobile_net_layer in mobile_net_base.layers:\n",
        "    mobile_net_layer.trainable = True\n"
      ]
    },
    {
      "cell_type": "markdown",
      "metadata": {
        "id": "j8D_t_wBLZNh"
      },
      "source": [
        "reference: https://blog.roboflow.com/how-to-train-mobilenetv2-on-a-custom-dataset/\n",
        "\n",
        "reference: https://github.com/berkayalan/neural-networks-and-deep-learning/blob/master/Transfer_learning_with_MobileNet_v1.ipynb\n",
        "\n",
        "reference: https://www.section.io/engineering-education/building-a-multiclass-image-classifier-using-mobilenet-v2-and-tensorflow/#compiling-the-deep-neural-network\n",
        "\n",
        "reference: https://stackoverflow.com/questions/73764399/adding-layers-to-cnn-model-mobilenetv2\n",
        "\n",
        "reference: https://www.tensorflow.org/api_docs/python/tf/keras/applications/mobilenet_v2/MobileNetV2"
      ]
    },
    {
      "cell_type": "code",
      "execution_count": null,
      "metadata": {
        "id": "aCNCk7vALZNh"
      },
      "outputs": [],
      "source": [
        "# Adding a custom model on top of the MobileNetV2 convolutional base\n",
        "\n",
        "# Obtain the output tensor of the convolutional base\n",
        "custom_model_output = mobile_net_base.output\n",
        "# Apply Global Average Pooling 2D to reduce spatial dimensions\n",
        "custom_model_output = layers.GlobalAveragePooling2D()(custom_model_output)\n",
        "# Add a dense layer with 256 units and ReLU activation\n",
        "custom_model_output = layers.Dense(256, activation='relu')(custom_model_output)\n",
        "# Apply dropout for regularization\n",
        "custom_model_output = layers.Dropout(0.2)(custom_model_output)\n",
        "# Add another dense layer with 64 units and ReLU activation\n",
        "custom_model_output = layers.Dense(64, activation='relu')(custom_model_output)\n",
        "# Apply dropout for regularization\n",
        "custom_model_output = layers.Dropout(0.1)(custom_model_output)\n",
        "# Output layer with 3 units (for classification) and softmax activation\n",
        "final_predictions = layers.Dense(3, activation='softmax')(custom_model_output)\n",
        "# Create the final model by specifying input and output\n",
        "custom_model = Model(mobile_net_base.input, final_predictions)\n"
      ]
    },
    {
      "cell_type": "code",
      "execution_count": null,
      "metadata": {
        "id": "2HfYzvmQLZNi"
      },
      "outputs": [],
      "source": [
        "# Define a list of callbacks for the model training process\n",
        "model_callbacks = [\n",
        "    ModelCheckpoint('.mdl_wts.hdf5', monitor='val_loss', mode='min', verbose=1, save_best_only=True),\n",
        "    # ModelCheckpoint: Save the model after every epoch if the val_loss has improved.\n",
        "    ReduceLROnPlateau(monitor='val_loss', factor=0.3, patience=2, verbose=1, mode='min', min_lr=0.0000000000)\n",
        "]\n"
      ]
    },
    {
      "cell_type": "code",
      "execution_count": null,
      "metadata": {
        "id": "Sg41Y1AlLZNj",
        "outputId": "d09c187c-5dbb-4078-a5b4-ed622869e62f"
      },
      "outputs": [
        {
          "name": "stdout",
          "output_type": "stream",
          "text": [
            "[INFO] training head...\n",
            "Epoch 1/30\n",
            "151/151 [==============================] - 1294s 8s/step - loss: 0.6541 - accuracy: 0.7240 - val_loss: 13.4300 - val_accuracy: 0.3688\n",
            "\n",
            "Epoch 00001: val_loss improved from inf to 13.42996, saving model to .mdl_wts.hdf5\n"
          ]
        },
        {
          "name": "stderr",
          "output_type": "stream",
          "text": [
            "C:\\Users\\divya\\Anaconda3\\lib\\site-packages\\keras\\utils\\generic_utils.py:497: CustomMaskWarning: Custom mask layers require a config and must override get_config. When loading, the custom mask layer must be passed to the custom_objects argument.\n",
            "  category=CustomMaskWarning)\n"
          ]
        },
        {
          "name": "stdout",
          "output_type": "stream",
          "text": [
            "Epoch 2/30\n",
            "151/151 [==============================] - 1200s 8s/step - loss: 0.5288 - accuracy: 0.7734 - val_loss: 10.7437 - val_accuracy: 0.3688\n",
            "\n",
            "Epoch 00002: val_loss improved from 13.42996 to 10.74370, saving model to .mdl_wts.hdf5\n",
            "Epoch 3/30\n",
            "151/151 [==============================] - 1182s 8s/step - loss: 0.4752 - accuracy: 0.8000 - val_loss: 12.8592 - val_accuracy: 0.3688\n",
            "\n",
            "Epoch 00003: val_loss did not improve from 10.74370\n",
            "Epoch 4/30\n",
            "151/151 [==============================] - 1201s 8s/step - loss: 0.4509 - accuracy: 0.8176 - val_loss: 6.0576 - val_accuracy: 0.3997\n",
            "\n",
            "Epoch 00004: val_loss improved from 10.74370 to 6.05762, saving model to .mdl_wts.hdf5\n",
            "Epoch 5/30\n",
            "151/151 [==============================] - 1182s 8s/step - loss: 0.4061 - accuracy: 0.8307 - val_loss: 9.0906 - val_accuracy: 0.3745\n",
            "\n",
            "Epoch 00005: val_loss did not improve from 6.05762\n",
            "Epoch 6/30\n",
            "151/151 [==============================] - 1174s 8s/step - loss: 0.3848 - accuracy: 0.8427 - val_loss: 9.4362 - val_accuracy: 0.3766\n",
            "\n",
            "Epoch 00006: val_loss did not improve from 6.05762\n",
            "\n",
            "Epoch 00006: ReduceLROnPlateau reducing learning rate to 0.0003000000142492354.\n",
            "Epoch 7/30\n",
            "151/151 [==============================] - 1159s 8s/step - loss: 0.2745 - accuracy: 0.8908 - val_loss: 7.3219 - val_accuracy: 0.4845\n",
            "\n",
            "Epoch 00007: val_loss did not improve from 6.05762\n",
            "Epoch 8/30\n",
            "151/151 [==============================] - 1164s 8s/step - loss: 0.2143 - accuracy: 0.9126 - val_loss: 5.4734 - val_accuracy: 0.5167\n",
            "\n",
            "Epoch 00008: val_loss improved from 6.05762 to 5.47337, saving model to .mdl_wts.hdf5\n",
            "Epoch 9/30\n",
            "151/151 [==============================] - 1166s 8s/step - loss: 0.1790 - accuracy: 0.9289 - val_loss: 3.8099 - val_accuracy: 0.5130\n",
            "\n",
            "Epoch 00009: val_loss improved from 5.47337 to 3.80986, saving model to .mdl_wts.hdf5\n",
            "Epoch 10/30\n",
            "151/151 [==============================] - 1170s 8s/step - loss: 0.1700 - accuracy: 0.9345 - val_loss: 5.8682 - val_accuracy: 0.4598\n",
            "\n",
            "Epoch 00010: val_loss did not improve from 3.80986\n",
            "Epoch 11/30\n",
            "151/151 [==============================] - 1173s 8s/step - loss: 0.1458 - accuracy: 0.9435 - val_loss: 2.2076 - val_accuracy: 0.6382\n",
            "\n",
            "Epoch 00011: val_loss improved from 3.80986 to 2.20755, saving model to .mdl_wts.hdf5\n",
            "Epoch 12/30\n",
            "151/151 [==============================] - 1170s 8s/step - loss: 0.1210 - accuracy: 0.9550 - val_loss: 1.9371 - val_accuracy: 0.6992\n",
            "\n",
            "Epoch 00012: val_loss improved from 2.20755 to 1.93712, saving model to .mdl_wts.hdf5\n",
            "Epoch 13/30\n",
            "151/151 [==============================] - 1179s 8s/step - loss: 0.1198 - accuracy: 0.9529 - val_loss: 1.5094 - val_accuracy: 0.7248\n",
            "\n",
            "Epoch 00013: val_loss improved from 1.93712 to 1.50937, saving model to .mdl_wts.hdf5\n",
            "Epoch 14/30\n",
            "151/151 [==============================] - 1197s 8s/step - loss: 0.1010 - accuracy: 0.9634 - val_loss: 1.6309 - val_accuracy: 0.7470\n",
            "\n",
            "Epoch 00014: val_loss did not improve from 1.50937\n",
            "Epoch 15/30\n",
            "151/151 [==============================] - 1168s 8s/step - loss: 0.0951 - accuracy: 0.9643 - val_loss: 2.7413 - val_accuracy: 0.6300\n",
            "\n",
            "Epoch 00015: val_loss did not improve from 1.50937\n",
            "\n",
            "Epoch 00015: ReduceLROnPlateau reducing learning rate to 9.000000427477062e-05.\n",
            "Epoch 16/30\n",
            "151/151 [==============================] - 1165s 8s/step - loss: 0.0584 - accuracy: 0.9792 - val_loss: 1.7054 - val_accuracy: 0.7124\n",
            "\n",
            "Epoch 00016: val_loss did not improve from 1.50937\n",
            "Epoch 17/30\n",
            "151/151 [==============================] - 1186s 8s/step - loss: 0.0378 - accuracy: 0.9867 - val_loss: 1.2825 - val_accuracy: 0.7664\n",
            "\n",
            "Epoch 00017: val_loss improved from 1.50937 to 1.28248, saving model to .mdl_wts.hdf5\n",
            "Epoch 18/30\n",
            "151/151 [==============================] - 1200s 8s/step - loss: 0.0343 - accuracy: 0.9900 - val_loss: 1.1806 - val_accuracy: 0.7919\n",
            "\n",
            "Epoch 00018: val_loss improved from 1.28248 to 1.18060, saving model to .mdl_wts.hdf5\n",
            "Epoch 19/30\n",
            "151/151 [==============================] - 1179s 8s/step - loss: 0.0289 - accuracy: 0.9903 - val_loss: 1.3189 - val_accuracy: 0.7853\n",
            "\n",
            "Epoch 00019: val_loss did not improve from 1.18060\n",
            "Epoch 20/30\n",
            "151/151 [==============================] - 1176s 8s/step - loss: 0.0297 - accuracy: 0.9908 - val_loss: 1.0293 - val_accuracy: 0.8195\n",
            "\n",
            "Epoch 00020: val_loss improved from 1.18060 to 1.02933, saving model to .mdl_wts.hdf5\n",
            "Epoch 21/30\n",
            "151/151 [==============================] - 1173s 8s/step - loss: 0.0253 - accuracy: 0.9916 - val_loss: 0.9263 - val_accuracy: 0.8348\n",
            "\n",
            "Epoch 00021: val_loss improved from 1.02933 to 0.92631, saving model to .mdl_wts.hdf5\n",
            "Epoch 22/30\n",
            "151/151 [==============================] - 1170s 8s/step - loss: 0.0270 - accuracy: 0.9906 - val_loss: 0.9121 - val_accuracy: 0.8319\n",
            "\n",
            "Epoch 00022: val_loss improved from 0.92631 to 0.91211, saving model to .mdl_wts.hdf5\n",
            "Epoch 23/30\n",
            "151/151 [==============================] - 1183s 8s/step - loss: 0.0267 - accuracy: 0.9912 - val_loss: 0.9362 - val_accuracy: 0.8286\n",
            "\n",
            "Epoch 00023: val_loss did not improve from 0.91211\n",
            "Epoch 24/30\n",
            "151/151 [==============================] - 1165s 8s/step - loss: 0.0224 - accuracy: 0.9924 - val_loss: 0.9599 - val_accuracy: 0.8368\n",
            "\n",
            "Epoch 00024: val_loss did not improve from 0.91211\n",
            "\n",
            "Epoch 00024: ReduceLROnPlateau reducing learning rate to 2.700000040931627e-05.\n",
            "Epoch 25/30\n",
            "151/151 [==============================] - 1169s 8s/step - loss: 0.0144 - accuracy: 0.9955 - val_loss: 0.9200 - val_accuracy: 0.8447\n",
            "\n",
            "Epoch 00025: val_loss did not improve from 0.91211\n",
            "Epoch 26/30\n",
            "151/151 [==============================] - 1173s 8s/step - loss: 0.0141 - accuracy: 0.9950 - val_loss: 0.9143 - val_accuracy: 0.8438\n",
            "\n",
            "Epoch 00026: val_loss did not improve from 0.91211\n",
            "\n",
            "Epoch 00026: ReduceLROnPlateau reducing learning rate to 8.100000013655517e-06.\n",
            "Epoch 27/30\n",
            "151/151 [==============================] - 1172s 8s/step - loss: 0.0164 - accuracy: 0.9946 - val_loss: 0.8948 - val_accuracy: 0.8500\n",
            "\n",
            "Epoch 00027: val_loss improved from 0.91211 to 0.89482, saving model to .mdl_wts.hdf5\n",
            "Epoch 28/30\n",
            "151/151 [==============================] - 1169s 8s/step - loss: 0.0122 - accuracy: 0.9962 - val_loss: 0.8784 - val_accuracy: 0.8529\n",
            "\n",
            "Epoch 00028: val_loss improved from 0.89482 to 0.87839, saving model to .mdl_wts.hdf5\n",
            "Epoch 29/30\n",
            "151/151 [==============================] - 1171s 8s/step - loss: 0.0153 - accuracy: 0.9947 - val_loss: 0.8772 - val_accuracy: 0.8546\n",
            "\n",
            "Epoch 00029: val_loss improved from 0.87839 to 0.87720, saving model to .mdl_wts.hdf5\n",
            "Epoch 30/30\n",
            "151/151 [==============================] - 1181s 8s/step - loss: 0.0097 - accuracy: 0.9971 - val_loss: 0.8851 - val_accuracy: 0.8537\n",
            "\n",
            "Epoch 00030: val_loss did not improve from 0.87720\n"
          ]
        }
      ],
      "source": [
        "# this model took almost 9 hrs to train\n",
        "\n",
        "# Compile the model\n",
        "custom_model.compile(loss='categorical_crossentropy', optimizer='adam', metrics=['accuracy'])\n",
        "\n",
        "# Set batch size\n",
        "BS = 64\n",
        "\n",
        "# Print information about training\n",
        "print(\"[INFO] training head...\")\n",
        "\n",
        "# Train the model\n",
        "H = custom_model.fit(\n",
        "    image_data_generator.flow(x_train, y_train, batch_size=BS),\n",
        "    steps_per_epoch=train_len // BS,\n",
        "    validation_data=(x_test, y_test),\n",
        "    validation_steps=test_len // BS,\n",
        "    epochs=30,\n",
        "    callbacks=model_callbacks\n",
        ")\n"
      ]
    },
    {
      "cell_type": "code",
      "execution_count": null,
      "metadata": {
        "id": "2JmkIhaTLZNk"
      },
      "outputs": [],
      "source": [
        "# Load the best saved model weights\n",
        "loaded_model = load_model('.mdl_wts.hdf5')\n"
      ]
    },
    {
      "cell_type": "code",
      "execution_count": null,
      "metadata": {
        "id": "JsofaBVaLZNk",
        "outputId": "96c5df1a-bea3-4175-b422-8dd1c12e4fa0"
      },
      "outputs": [
        {
          "name": "stderr",
          "output_type": "stream",
          "text": [
            "C:\\Users\\divya\\Anaconda3\\lib\\site-packages\\keras\\utils\\generic_utils.py:497: CustomMaskWarning: Custom mask layers require a config and must override get_config. When loading, the custom mask layer must be passed to the custom_objects argument.\n",
            "  category=CustomMaskWarning)\n"
          ]
        }
      ],
      "source": [
        "# Save the model with a new version name\n",
        "loaded_model.save(I_VARIABLES_DIR + '/model_v1.h5')\n"
      ]
    },
    {
      "cell_type": "code",
      "execution_count": null,
      "metadata": {
        "id": "NpNXvHvJLZNl"
      },
      "outputs": [],
      "source": [
        "# Load the saved model with the new version name\n",
        "loaded_model = load_model(I_VARIABLES_DIR + '/model_v1.h5')\n"
      ]
    },
    {
      "cell_type": "markdown",
      "metadata": {
        "id": "yfiG8wpULZNl"
      },
      "source": [
        "## Model Evaluation"
      ]
    },
    {
      "cell_type": "code",
      "execution_count": null,
      "metadata": {
        "id": "S4uJRdX3LZNm",
        "outputId": "fbf09367-db68-499a-fd3b-fc11229c83ba"
      },
      "outputs": [
        {
          "name": "stdout",
          "output_type": "stream",
          "text": [
            "76/76 [==============================] - 54s 703ms/step - loss: 0.8772 - accuracy: 0.8546\n",
            "\n",
            " Test_Accuracy:- 0.8545529246330261\n"
          ]
        }
      ],
      "source": [
        "# Evaluate the model's accuracy on the test set\n",
        "loaded_model = load_model(I_VARIABLES_DIR + '/model_v1.h5')\n",
        "\n",
        "# Checking the accuracy\n",
        "accuracy = loaded_model.evaluate(x_test, y_test, verbose=1)\n",
        "print('\\n', 'Test Accuracy: ', accuracy[1])\n"
      ]
    },
    {
      "cell_type": "code",
      "execution_count": null,
      "metadata": {
        "id": "WYBfyxHqLZNm",
        "outputId": "01112bbb-b988-4d25-caac-6c258702897e"
      },
      "outputs": [
        {
          "data": {
            "text/plain": [
              "array([1.1331421e-11, 1.0000000e+00, 6.4998287e-09], dtype=float32)"
            ]
          },
          "execution_count": 14,
          "metadata": {},
          "output_type": "execute_result"
        }
      ],
      "source": [
        "# Predictions on the test set using the loaded model\n",
        "rounded_predictions = loaded_model.predict(x_test, batch_size=16, verbose=0)\n",
        "rounded_predictions[1]  # Print an example prediction (adjust index as needed)\n"
      ]
    },
    {
      "cell_type": "code",
      "execution_count": null,
      "metadata": {
        "id": "Rfyrzr9FLZNn",
        "outputId": "3a48dce7-8be9-45ab-9a33-06f36d3bf01a"
      },
      "outputs": [
        {
          "name": "stdout",
          "output_type": "stream",
          "text": [
            "152/152 [==============================] - 51s 336ms/step\n"
          ]
        },
        {
          "data": {
            "image/png": "[encoded data removed]",
            "text/plain": [
              "<Figure size 432x288 with 2 Axes>"
            ]
          },
          "metadata": {},
          "output_type": "display_data"
        }
      ],
      "source": [
        "pred_Y = loaded_model.predict(x_test, batch_size=16, verbose=True)\n",
        "\n",
        "def plot_confusion_matrix(cm, classes,\n",
        "                          normalize=False,\n",
        "                          title='Confusion matrix',\n",
        "                          cmap=plt.cm.Blues):\n",
        "    \"\"\"\n",
        "    This function prints and plots the confusion matrix.\n",
        "    Normalization can be applied by setting `normalize=True`.\n",
        "    \"\"\"\n",
        "    plt.imshow(cm, interpolation='nearest', cmap=cmap)\n",
        "    plt.title(title)\n",
        "    plt.colorbar()\n",
        "    tick_marks = np.arange(len(classes))\n",
        "    plt.xticks(tick_marks, classes, rotation=45)\n",
        "    plt.yticks(tick_marks, classes)\n",
        "\n",
        "    target_names = ['BCC', 'Melanoma', 'Nevus']\n",
        "\n",
        "    if target_names is not None:\n",
        "        tick_marks = np.arange(len(target_names))\n",
        "        plt.xticks(tick_marks, target_names, rotation=45)\n",
        "        plt.yticks(tick_marks, target_names)\n",
        "\n",
        "    if normalize:\n",
        "        cm = cm.astype('float') / cm.sum(axis=1)[:, np.newaxis]\n",
        "\n",
        "    thresh = cm.max() / 2.\n",
        "    for i, j in itertools.product(range(cm.shape[0]), range(cm.shape[1])):\n",
        "        plt.text(j, i, \"{:.2f}\".format(cm[i, j]),\n",
        "                 horizontalalignment=\"center\",\n",
        "                 color=\"white\" if cm[i, j] > thresh else \"black\")\n",
        "\n",
        "    plt.tight_layout()\n",
        "    plt.ylabel('True label')\n",
        "    plt.xlabel('Predicted label')\n",
        "\n",
        "# Convert predictions classes to one hot vectors\n",
        "Y_pred_classes = np.argmax(pred_Y, axis=1)\n",
        "# Convert validation observations to one hot vectors\n",
        "rounded_labels = np.argmax(y_test, axis=1)\n",
        "# compute the confusion matrix\n",
        "confusion_mtx = confusion_matrix(rounded_labels, Y_pred_classes)\n",
        "\n",
        "# plot the confusion matrix\n",
        "plot_confusion_matrix(confusion_mtx, classes=range(3))\n"
      ]
    },
    {
      "cell_type": "code",
      "execution_count": null,
      "metadata": {
        "id": "m6qZ24dlLZNn",
        "outputId": "8239b081-b6fe-4a4c-b112-5970e5ca0443"
      },
      "outputs": [
        {
          "name": "stdout",
          "output_type": "stream",
          "text": [
            "             precision    recall  f1-score   support\n",
            "\n",
            "        BCC       0.93      0.91      0.92       638\n",
            "   Melanoma       0.81      0.85      0.83       894\n",
            "      Nevus       0.85      0.81      0.83       895\n",
            "\n",
            "avg / total       0.86      0.85      0.85      2427\n",
            "\n"
          ]
        }
      ],
      "source": [
        "# Predictions on the test set\n",
        "predIdxs = loaded_model.predict(x_test, batch_size=BS)\n",
        "\n",
        "# Find the index of the label with the largest predicted probability for each image\n",
        "predIdxs = np.argmax(predIdxs, axis=1)\n",
        "rounded_labels = np.argmax(y_test, axis=1)\n",
        "\n",
        "# Display a classification report\n",
        "print(classification_report(rounded_labels, predIdxs, target_names=['BCC', 'Melanoma', 'Nevus']))\n"
      ]
    },
    {
      "cell_type": "code",
      "execution_count": null,
      "metadata": {
        "id": "eru6Rvt1LZNn"
      },
      "outputs": [],
      "source": []
    },
    {
      "cell_type": "markdown",
      "metadata": {
        "id": "MWMzQN68LZNo"
      },
      "source": [
        "## Model Evaluation onTesting Data"
      ]
    },
    {
      "cell_type": "code",
      "execution_count": null,
      "metadata": {
        "id": "H8-ouK1hLZNo"
      },
      "outputs": [],
      "source": [
        "# Set the path to the new dataset directory\n",
        "F_DIR = \"ISIC_2019_ML/Test_Data_3\""
      ]
    },
    {
      "cell_type": "code",
      "execution_count": null,
      "metadata": {
        "id": "HVjU15ZOLZNo"
      },
      "outputs": [],
      "source": [
        "# Loading Model\n",
        "model = load_model(I_VARIABLES_DIR+'/model_v1.h5')"
      ]
    },
    {
      "cell_type": "code",
      "execution_count": null,
      "metadata": {
        "id": "zkgCgfGdLZNo"
      },
      "outputs": [],
      "source": [
        "# Read and preprocess the new dataset\n",
        "\n",
        "new_data = []\n",
        "True_labels = []\n",
        "\n",
        "# Iterate through the files in the new dataset directory\n",
        "for filename in os.listdir(F_DIR):\n",
        "    try:\n",
        "        image_path = os.path.join(F_DIR, filename)\n",
        "        image = cv2.imread(image_path)\n",
        "        image_from_array = Image.fromarray(image, 'RGB')\n",
        "        size_image = image_from_array.resize((224, 224))\n",
        "        new_data.append(np.array(size_image))\n",
        "\n",
        "        # Extracting the labels based on the first character of the filename\n",
        "        if filename[0] == 'b':\n",
        "            True_labels.append(0)\n",
        "        elif filename[0] == 'm':\n",
        "            True_labels.append(1)\n",
        "        elif filename[0] == 'n':\n",
        "            True_labels.append(2)\n",
        "\n",
        "    except Exception as e:\n",
        "        print(f\"Error processing {filename}: {str(e)}\")"
      ]
    },
    {
      "cell_type": "code",
      "execution_count": null,
      "metadata": {
        "id": "rwfoR3r6LZNp"
      },
      "outputs": [],
      "source": [
        "# Convert the list to a numpy array\n",
        "new_data = np.array(new_data)\n",
        "\n",
        "# Normalize the new dataset\n",
        "new_data = new_data.astype('float32') / 255"
      ]
    },
    {
      "cell_type": "code",
      "execution_count": null,
      "metadata": {
        "id": "jaUbcyPrLZNp"
      },
      "outputs": [],
      "source": [
        "# Make predictions on the new dataset\n",
        "new_predictions = model.predict(new_data)"
      ]
    },
    {
      "cell_type": "code",
      "execution_count": null,
      "metadata": {
        "id": "_IzcIWBrLZNq"
      },
      "outputs": [],
      "source": [
        "# Convert the predictions to class labels\n",
        "predicted_labels = np.argmax(new_predictions, axis=1)"
      ]
    },
    {
      "cell_type": "code",
      "execution_count": null,
      "metadata": {
        "id": "D34JhQ5nLZNq",
        "outputId": "293a8273-3cbd-48ff-d482-3718ad7f8bf9"
      },
      "outputs": [
        {
          "name": "stdout",
          "output_type": "stream",
          "text": [
            "Predicted Labels: [0 0 0 0 0 0 0 0 0 0 0 0 0 0 0 0 0 0 0 0 0 0 0 0 0 0 0 0 0 0 0 0 0 0 0 0 0\n",
            " 0 0 0 0 0 0 0 0 0 0 0 1 0 0 0 0 0 0 0 0 0 0 0 0 0 0 0 0 0 0 0 0 0 0 0 0 0\n",
            " 0 0 0 0 0 0 0 0 0 0 0 0 0 0 0 0 0 0 0 0 0 0 0 0 0 0 0 0 0 0 0 0 0 0 0 0 0\n",
            " 0 0 0 0 0 0 0 0 0 0 0 0 0 0 0 0 0 0 0 0 0 0 0 0 0 0 0 0 0 0 0 0 0 0 0 0 0\n",
            " 0 0 0 0 0 0 0 0 0 0 0 0 0 0 0 0 0 0 0 0 0 0 0 0 0 0 0 0 0 0 0 0 0 0 0 0 0\n",
            " 0 0 0 0 0 0 0 0 0 0 0 0 0 0 0 0 0 0 0 0 0 0 1 1 1 1 1 1 1 1 1 1 1 2 1 1 1\n",
            " 1 1 1 1 1 1 1 1 1 1 1 1 1 1 1 1 1 1 1 1 1 1 1 1 1 1 1 1 1 1 1 1 1 1 1 1 1\n",
            " 1 1 1 1 1 1 1 1 1 1 1 1 1 1 1 1 1 1 1 1 1 1 1 1 1 1 1 1 1 1 1 1 1 1 1 1 1\n",
            " 1 1 1 1 1 1 1 2 1 1 1 1 1 1 1 1 1 1 1 1 1 1 1 1 1 1 1 1 1 1 1 1 1 1 1 1 1\n",
            " 1 1 1 1 1 1 1 1 1 2 1 1 1 1 1 1 1 1 1 1 1 1 1 1 1 1 1 1 1 1 1 1 1 1 1 2 1\n",
            " 1 1 1 1 1 1 1 1 1 1 1 1 1 1 1 1 1 1 1 1 1 1 1 1 1 1 1 1 1 1 1 1 1 1 1 1 1\n",
            " 1 1 1 1 1 1 1 2 2 2 2 2 2 2 2 2 2 2 2 2 2 2 2 2 2 2 2 2 2 2 2 2 2 2 2 2 2\n",
            " 2 2 2 2 2 2 2 2 2 2 2 2 2 2 2 2 2 2 2 2 2 2 2 2 2 2 2 2 2 2 2 2 2 2 2 2 2\n",
            " 2 2 2 2 2 2 2 1 2 2 2 2 2 2 2 2 2 2 2 2 2 2 2 2 2 2 2 2 2 2 2 2 2 2 2 2 2\n",
            " 2 2 2 2 2 2 2 2 2 2 2 2 2 2 2 2 2 2 2 2 2 2 2 2 2 2 2 2 2 2 2 2 2 2 2 1 2\n",
            " 2 2 2 2 2 2 2 2 2 1 2 2 2 2 2 2 2 2 2 2 2 2 2 2 2 2 2 2 2 2 2 2 2 2 2 2 2\n",
            " 2 2 2 2 2 2 2 2 2 2 2 2 2 2 2 2 2 2 2 2 2 2 2 2 2 2 2 2 2]\n"
          ]
        }
      ],
      "source": [
        "# Print the predicted labels\n",
        "print(\"Predicted Labels:\", predicted_labels)"
      ]
    },
    {
      "cell_type": "code",
      "execution_count": null,
      "metadata": {
        "id": "729TBqvDLZNq"
      },
      "outputs": [],
      "source": [
        "# true_labels_CN1 = np.array([0, 0, 0, 0, 0, 0, 1, 1, 1, 1, 2, 2, 2, 2])\n",
        "true_labels_CN1 = True_labels"
      ]
    },
    {
      "cell_type": "code",
      "execution_count": null,
      "metadata": {
        "id": "qwq5yxy2LZNr",
        "outputId": "49398432-05c5-4491-9b32-30b762796e7d"
      },
      "outputs": [
        {
          "data": {
            "image/png": "[encoded data removed]",
            "text/plain": [
              "<Figure size 432x288 with 2 Axes>"
            ]
          },
          "metadata": {},
          "output_type": "display_data"
        }
      ],
      "source": [
        "# Create the confusion matrix\n",
        "conf_matrix = confusion_matrix(true_labels_CN1, predicted_labels)\n",
        "\n",
        "# Plot the confusion matrix as a heatmap\n",
        "sns.heatmap(conf_matrix, annot=True, fmt='d', cmap='Blues', xticklabels=['Class 0', 'Class 1', 'Class 2'],\n",
        "            yticklabels=['Class 0', 'Class 1', 'Class 2'])\n",
        "\n",
        "plt.title('Confusion Matrix')\n",
        "plt.xlabel('Predicted Labels')\n",
        "plt.ylabel('True Labels')\n",
        "plt.show()"
      ]
    },
    {
      "cell_type": "code",
      "execution_count": null,
      "metadata": {
        "id": "-vIawX0OLZNr",
        "outputId": "6049eef8-9fe4-4906-b592-24a4d1c6c321"
      },
      "outputs": [
        {
          "data": {
            "image/png": "[encoded data removed]",
            "text/plain": [
              "<Figure size 576x432 with 2 Axes>"
            ]
          },
          "metadata": {},
          "output_type": "display_data"
        }
      ],
      "source": [
        "# Create the confusion matrix\n",
        "conf_matrix = confusion_matrix(true_labels_CN1, predicted_labels)\n",
        "\n",
        "# Convert to percentages\n",
        "conf_matrix_percentage = conf_matrix / conf_matrix.sum(axis=1)[:, np.newaxis]\n",
        "plt.figure(figsize=(8, 6))\n",
        "\n",
        "# heatmap with annotations and percentages\n",
        "sns.heatmap(conf_matrix_percentage, annot=True, fmt=\".2%\", cmap=\"Blues\", xticklabels=[\"Class 0\", \"Class 1\", \"Class 2\"], yticklabels=[\"Class 0\", \"Class 1\", \"Class 2\"])\n",
        "\n",
        "plt.title('Confusion Matrix (Percentage)')\n",
        "plt.xlabel('Predicted Labels')\n",
        "plt.ylabel('True Labels')\n",
        "plt.show()"
      ]
    },
    {
      "cell_type": "code",
      "execution_count": null,
      "metadata": {
        "id": "Vw6kqcVXLZNs",
        "outputId": "e3e6142d-1e37-48ba-df3a-a6b627348842"
      },
      "outputs": [
        {
          "name": "stdout",
          "output_type": "stream",
          "text": [
            "Classification Report:\n",
            "             precision    recall  f1-score   support\n",
            "\n",
            "    Class 0       1.00      1.00      1.00       207\n",
            "    Class 1       0.98      0.98      0.98       207\n",
            "    Class 2       0.98      0.99      0.98       207\n",
            "\n",
            "avg / total       0.99      0.99      0.99       621\n",
            "\n"
          ]
        }
      ],
      "source": [
        "# Classification Report\n",
        "class_names = [\"Class 0\", \"Class 1\", \"Class 2\"]\n",
        "report = classification_report(true_labels_CN1, predicted_labels, target_names=class_names)\n",
        "print(\"Classification Report:\")\n",
        "print(report)"
      ]
    },
    {
      "cell_type": "code",
      "execution_count": null,
      "metadata": {
        "id": "ObAz3NWCLZNt",
        "outputId": "9b7e89e7-8500-4c52-fede-c40f216b9df6"
      },
      "outputs": [
        {
          "name": "stdout",
          "output_type": "stream",
          "text": [
            "Overall Accuracy: 0.9871\n"
          ]
        }
      ],
      "source": [
        "# Calculate the overall accuracy\n",
        "overall_accuracy = accuracy_score(true_labels_CN1, predicted_labels)\n",
        "print(f'Overall Accuracy: {overall_accuracy:.4f}')"
      ]
    }
  ],
  "metadata": {
    "kernelspec": {
      "display_name": "Python 3",
      "language": "python",
      "name": "python3"
    },
    "language_info": {
      "codemirror_mode": {
        "name": "ipython",
        "version": 3
      },
      "file_extension": ".py",
      "mimetype": "text/x-python",
      "name": "python",
      "nbconvert_exporter": "python",
      "pygments_lexer": "ipython3",
      "version": "3.6.5"
    },
    "colab": {
      "provenance": []
    }
  },
  "nbformat": 4,
  "nbformat_minor": 0
}