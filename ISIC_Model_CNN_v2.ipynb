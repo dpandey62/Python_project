{
  "cells": [
    {
      "cell_type": "markdown",
      "metadata": {
        "id": "rjx7jlbwPz-o"
      },
      "source": [
        "## Importing Libraries"
      ]
    },
    {
      "cell_type": "code",
      "execution_count": null,
      "metadata": {
        "id": "Yk4aOybGPz-u"
      },
      "outputs": [],
      "source": [
        "# <==== Importing Neccesary libraries ===>\n",
        "import os\n",
        "import numpy as np\n",
        "from numpy import loadtxt\n",
        "import pandas as pd\n",
        "import matplotlib.pyplot as plt\n",
        "import seaborn as sns\n",
        "import itertools\n",
        "from PIL import Image\n",
        "import random\n",
        "from random import shuffle\n",
        "import cv2\n",
        "from tqdm import tqdm\n",
        "from PIL import Image\n",
        "from random import shuffle\n",
        "from scipy import interp\n",
        "from itertools import cycle\n",
        "\n",
        "# <==== Tensorflow & Machine Learning lib ===>\n",
        "from tensorflow.keras.preprocessing import image\n",
        "from tensorflow.keras.preprocessing.image import ImageDataGenerator\n",
        "from tensorflow.keras.models import Sequential\n",
        "from tensorflow.keras import Model, layers\n",
        "from tensorflow.keras.models import load_model\n",
        "from tensorflow.keras.utils import to_categorical\n",
        "from tensorflow.keras.applications.imagenet_utils import preprocess_input, decode_predictions\n",
        "from tensorflow.keras.layers import Conv2D,MaxPooling2D,Dense,Flatten,Dropout\n",
        "from tensorflow.keras.callbacks import EarlyStopping, ModelCheckpoint, ReduceLROnPlateau\n",
        "from tensorflow.keras.applications.mobilenet_v2 import MobileNetV2\n",
        "\n",
        "# <==== Performance Metrics ===>\n",
        "from sklearn.metrics import confusion_matrix,classification_report\n",
        "from sklearn.metrics import confusion_matrix, classification_report, accuracy_score\n",
        "from sklearn.datasets import make_classification\n",
        "from sklearn.preprocessing import label_binarize\n",
        "from sklearn.metrics import roc_curve, auc"
      ]
    },
    {
      "cell_type": "code",
      "execution_count": null,
      "metadata": {
        "id": "m0yxW0gJPz-x"
      },
      "outputs": [],
      "source": [
        "# setting path of directory\n",
        "B_DIR = \"ISIC_2019_ML/Bcc\"\n",
        "M_DIR = \"ISIC_2019_ML/Melanoma\"\n",
        "N_DIR = \"ISIC_2019_ML/Navus\"\n",
        "I_dir = \"ISIC_2019_ML\"\n",
        "I_Var = \"ISIC_2019_ML/isic_vars\""
      ]
    },
    {
      "cell_type": "code",
      "execution_count": null,
      "metadata": {
        "id": "-r_2X6ghPz-y"
      },
      "outputs": [],
      "source": [
        "# loading the saved variables\n",
        "x_train = np.load(I_Var+\"/x_train.npy\")\n",
        "y_train = np.load(I_Var+\"/y_train.npy\")\n",
        "x_test = np.load(I_Var+\"/x_test.npy\")\n",
        "y_test = np.load(I_Var+\"/y_test.npy\")\n",
        "num_classes = np.load(I_Var+\"/num_classes.npy\")\n",
        "len_data = np.load(I_Var+\"/len_data.npy\")\n",
        "train_len = np.load(I_Var+\"/train_len.npy\")\n",
        "test_len = np.load(I_Var+\"/test_len.npy\")"
      ]
    },
    {
      "cell_type": "markdown",
      "metadata": {
        "id": "Dl4U0_UzPz-z"
      },
      "source": [
        "reference: https://www.tensorflow.org/api_docs/python/tf/keras/preprocessing/image/ImageDataGenerator"
      ]
    },
    {
      "cell_type": "code",
      "execution_count": null,
      "metadata": {
        "id": "rzRqBA54Pz-0"
      },
      "outputs": [],
      "source": [
        "# ImageDataGenerator with data augmentation for training\n",
        "train_datagen = ImageDataGenerator(\n",
        "    rotation_range=20,           # Randomly rotate images\n",
        "    width_shift_range=0.2,       # Randomly shift images horizontally (fraction of total width)\n",
        "    height_shift_range=0.2,      # Randomly shift images vertically (fraction of total height)\n",
        "    shear_range=0.2,             # Shear Intensity (Shear angle in counter-clockwise direction in degrees)\n",
        "    zoom_range=0.2,              # Randomly zoom images\n",
        "    horizontal_flip=True,        # Randomly flip images horizontally\n",
        "    fill_mode='nearest'          # Points outside the boundaries of the input are filled according to the given mode\n",
        ")\n",
        "\n",
        "# Create an ImageDataGenerator without data augmentation for validation\n",
        "val_datagen = ImageDataGenerator()\n",
        "\n",
        "# Fit the generators on your data\n",
        "train_datagen.fit(x_train)       # Fit the training data\n",
        "val_datagen.fit(x_test)         # Fit the validation data"
      ]
    },
    {
      "cell_type": "markdown",
      "metadata": {
        "id": "_k6qPoqlPz-0"
      },
      "source": [
        "## Model Building"
      ]
    },
    {
      "cell_type": "code",
      "execution_count": null,
      "metadata": {
        "id": "PNIUiTalPz-1",
        "outputId": "623a5ec9-dea0-4722-96e5-eb4b1177dd04"
      },
      "outputs": [
        {
          "name": "stdout",
          "output_type": "stream",
          "text": [
            "Epoch 1/20\n",
            "304/304 [==============================] - 516s 2s/step - loss: 0.8016 - accuracy: 0.6357 - val_loss: 0.7095 - val_accuracy: 0.6836\n",
            "Epoch 2/20\n",
            "304/304 [==============================] - 510s 2s/step - loss: 0.7627 - accuracy: 0.6561 - val_loss: 0.6935 - val_accuracy: 0.6823\n",
            "Epoch 3/20\n",
            "304/304 [==============================] - 526s 2s/step - loss: 0.7432 - accuracy: 0.6649 - val_loss: 0.6800 - val_accuracy: 0.6918\n",
            "Epoch 4/20\n",
            "304/304 [==============================] - 519s 2s/step - loss: 0.7345 - accuracy: 0.6738 - val_loss: 0.6809 - val_accuracy: 0.6939\n",
            "Epoch 5/20\n",
            "304/304 [==============================] - 513s 2s/step - loss: 0.7229 - accuracy: 0.6754 - val_loss: 0.6693 - val_accuracy: 0.6951\n",
            "Epoch 6/20\n",
            "304/304 [==============================] - 513s 2s/step - loss: 0.7178 - accuracy: 0.6803 - val_loss: 0.6671 - val_accuracy: 0.6984\n",
            "Epoch 7/20\n",
            "304/304 [==============================] - 527s 2s/step - loss: 0.7105 - accuracy: 0.6803 - val_loss: 0.6677 - val_accuracy: 0.6972\n",
            "Epoch 8/20\n",
            "304/304 [==============================] - 514s 2s/step - loss: 0.7043 - accuracy: 0.6850 - val_loss: 0.6824 - val_accuracy: 0.7054\n",
            "Epoch 9/20\n",
            "304/304 [==============================] - 512s 2s/step - loss: 0.6725 - accuracy: 0.6975 - val_loss: 0.6402 - val_accuracy: 0.7153\n",
            "Epoch 10/20\n",
            "304/304 [==============================] - 517s 2s/step - loss: 0.6568 - accuracy: 0.7062 - val_loss: 0.6345 - val_accuracy: 0.7165\n",
            "Epoch 11/20\n",
            "304/304 [==============================] - 516s 2s/step - loss: 0.6489 - accuracy: 0.7080 - val_loss: 0.6399 - val_accuracy: 0.7124\n",
            "Epoch 12/20\n",
            "304/304 [==============================] - 518s 2s/step - loss: 0.6503 - accuracy: 0.7102 - val_loss: 0.6285 - val_accuracy: 0.7215\n",
            "Epoch 13/20\n",
            "304/304 [==============================] - 519s 2s/step - loss: 0.6432 - accuracy: 0.7095 - val_loss: 0.6374 - val_accuracy: 0.7108\n",
            "Epoch 14/20\n",
            "304/304 [==============================] - 531s 2s/step - loss: 0.6367 - accuracy: 0.7120 - val_loss: 0.6311 - val_accuracy: 0.7198\n",
            "Epoch 15/20\n",
            "304/304 [==============================] - 519s 2s/step - loss: 0.6350 - accuracy: 0.7166 - val_loss: 0.6258 - val_accuracy: 0.7219\n",
            "Epoch 16/20\n",
            "304/304 [==============================] - 517s 2s/step - loss: 0.6367 - accuracy: 0.7198 - val_loss: 0.6228 - val_accuracy: 0.7186\n",
            "Epoch 17/20\n",
            "304/304 [==============================] - 520s 2s/step - loss: 0.6406 - accuracy: 0.7140 - val_loss: 0.6213 - val_accuracy: 0.7190\n",
            "Epoch 18/20\n",
            "304/304 [==============================] - 515s 2s/step - loss: 0.6362 - accuracy: 0.7192 - val_loss: 0.6226 - val_accuracy: 0.7206\n",
            "Epoch 19/20\n",
            "304/304 [==============================] - 517s 2s/step - loss: 0.6358 - accuracy: 0.7176 - val_loss: 0.6213 - val_accuracy: 0.7186\n",
            "Epoch 20/20\n",
            "304/304 [==============================] - 523s 2s/step - loss: 0.6310 - accuracy: 0.7171 - val_loss: 0.6233 - val_accuracy: 0.7186\n"
          ]
        }
      ],
      "source": [
        "# Set up callbacks\n",
        "# Stop training when a val_loss has stopped improving for a specified patience = 3.\n",
        "early_stopping = EarlyStopping(monitor='val_loss', patience=3, restore_best_weights=True)\n",
        "\n",
        "# ModelCheckpoint: Save the model after every epoch if the val_loss has improved.\n",
        "model_checkpoint = ModelCheckpoint('skin_cancer_model_v2.h5', save_best_only=True)\n",
        "\n",
        "# Reduce learning rate when a metric val_loss has stopped improving.\n",
        "reduce_lr = ReduceLROnPlateau(monitor='val_loss', factor=0.1, patience=2, min_lr=0.00001)\n",
        "\n",
        "# Train the model using data augmentation\n",
        "history = model.fit(\n",
        "    train_datagen.flow(x_train, y_train, batch_size=32),\n",
        "    epochs=20,\n",
        "    validation_data=val_datagen.flow(x_test, y_test),\n",
        "    callbacks=[early_stopping, model_checkpoint, reduce_lr]\n",
        ")"
      ]
    },
    {
      "cell_type": "code",
      "execution_count": null,
      "metadata": {
        "id": "fdCASXz3Pz-2"
      },
      "outputs": [],
      "source": [
        "# Save the trained model\n",
        "model.save('skin_cancer_model_v2.h5')"
      ]
    },
    {
      "cell_type": "code",
      "execution_count": null,
      "metadata": {
        "id": "V6uVaLioPz-3"
      },
      "outputs": [],
      "source": [
        "# Load model\n",
        "model = load_model(I_dir+'/skin_cancer_model_v2.h5')"
      ]
    },
    {
      "cell_type": "markdown",
      "metadata": {
        "id": "sd33jwfVPz-4"
      },
      "source": [
        "## Model Evaluation"
      ]
    },
    {
      "cell_type": "code",
      "execution_count": null,
      "metadata": {
        "id": "P6_g28VQPz-4",
        "outputId": "5b4affa9-4fcb-47f6-db41-2d8773fb4611"
      },
      "outputs": [
        {
          "name": "stdout",
          "output_type": "stream",
          "text": [
            "76/76 [==============================] - 22s 274ms/step - loss: 0.6233 - accuracy: 0.7186\n",
            "Test Loss: 0.6233, Test Accuracy: 0.7186\n"
          ]
        }
      ],
      "source": [
        "# Evaluate the model on the test set\n",
        "test_loss, test_accuracy = model.evaluate(x_test, y_test)\n",
        "print(f'Test Loss: {test_loss:.4f}, Test Accuracy: {test_accuracy:.4f}')"
      ]
    },
    {
      "cell_type": "code",
      "execution_count": null,
      "metadata": {
        "id": "9bSAIihMPz-5",
        "outputId": "4fcc0dba-0e49-4024-c27b-877371a319bc"
      },
      "outputs": [
        {
          "data": {
            "image/png": "[encoded data removed]",
            "text/plain": [
              "<Figure size 576x432 with 2 Axes>"
            ]
          },
          "metadata": {},
          "output_type": "display_data"
        },
        {
          "name": "stdout",
          "output_type": "stream",
          "text": [
            "Classification Report:\n",
            "             precision    recall  f1-score   support\n",
            "\n",
            "          0       0.72      0.79      0.76       638\n",
            "          1       0.69      0.69      0.69       894\n",
            "          2       0.75      0.69      0.72       895\n",
            "\n",
            "avg / total       0.72      0.72      0.72      2427\n",
            "\n"
          ]
        },
        {
          "data": {
            "image/png": "[encoded data removed]",
            "text/plain": [
              "<Figure size 720x432 with 1 Axes>"
            ]
          },
          "metadata": {},
          "output_type": "display_data"
        },
        {
          "name": "stdout",
          "output_type": "stream",
          "text": [
            "Weighted Precision: 0.7193\n",
            "Weighted Recall: 0.7186\n",
            "Weighted F1 Score: 0.7182\n"
          ]
        }
      ],
      "source": [
        "# Confusion Matrix\n",
        "conf_matrix = confusion_matrix(y_true, y_pred_classes)\n",
        "\n",
        "# Plot Confusion Matrix\n",
        "plt.figure(figsize=(8, 6))\n",
        "sns.heatmap(conf_matrix, annot=True, fmt='d', cmap='Blues', xticklabels=['Basal', 'Melanoma', 'Nevus'], yticklabels=['Basal', 'Melanoma', 'Nevus'])\n",
        "plt.xlabel('Predicted')\n",
        "plt.ylabel('Actual')\n",
        "plt.title('Confusion Matrix')\n",
        "plt.show()\n",
        "\n",
        "# Classification Report\n",
        "class_report = classification_report(y_true, y_pred_classes)\n",
        "print(\"Classification Report:\")\n",
        "print(class_report)\n",
        "\n",
        "# ROC Curve\n",
        "plt.figure(figsize=(10, 6))\n",
        "for i in range(num_classes):\n",
        "    plt.plot(fpr[i], tpr[i], label=f'Class {i} (AUC = {roc_auc[i]:.2f})')\n",
        "\n",
        "plt.plot([0, 1], [0, 1], 'k--', lw=2)\n",
        "plt.xlabel('False Positive Rate')\n",
        "plt.ylabel('True Positive Rate')\n",
        "plt.title('ROC Curve for Each Class')\n",
        "plt.legend(loc=\"lower right\")\n",
        "plt.show()\n",
        "\n",
        "# Precision, Recall, F1 Score\n",
        "precision = precision_score(y_true, y_pred_classes, average='weighted')\n",
        "recall = recall_score(y_true, y_pred_classes, average='weighted')\n",
        "f1 = f1_score(y_true, y_pred_classes, average='weighted')\n",
        "\n",
        "print(f'Weighted Precision: {precision:.4f}')\n",
        "print(f'Weighted Recall: {recall:.4f}')\n",
        "print(f'Weighted F1 Score: {f1:.4f}')\n"
      ]
    },
    {
      "cell_type": "markdown",
      "metadata": {
        "id": "qLpm72oqPz-6"
      },
      "source": [
        "testing the modified CNN on a small subset of data"
      ]
    },
    {
      "cell_type": "code",
      "execution_count": null,
      "metadata": {
        "id": "xh90xt1IPz-6"
      },
      "outputs": [],
      "source": [
        "import os\n",
        "import cv2\n",
        "import numpy as np\n",
        "from PIL import Image\n",
        "from tensorflow.keras.models import load_model\n",
        "from tensorflow.keras.utils import to_categorical\n",
        "\n",
        "# Set the path to the new dataset directory\n",
        "F_DIR = \"ISIC_2019_ML/Test_Data_3\""
      ]
    },
    {
      "cell_type": "code",
      "execution_count": null,
      "metadata": {
        "id": "P7KK-uzYPz-7"
      },
      "outputs": [],
      "source": [
        "#Testing -  Load model\n",
        "model = load_model('skin_cancer_model.h5')"
      ]
    },
    {
      "cell_type": "code",
      "execution_count": null,
      "metadata": {
        "id": "lcArd3UfPz-8",
        "outputId": "a0719e5c-e473-4f39-e33e-37acc9119e18"
      },
      "outputs": [
        {
          "name": "stdout",
          "output_type": "stream",
          "text": [
            "bcc_ISIC_0028457.jpg\n",
            "bcc_ISIC_0028486.jpg\n",
            "bcc_ISIC_0028495.jpg\n",
            "bcc_ISIC_0028653.jpg\n",
            "bcc_ISIC_0028670.jpg\n",
            "bcc_ISIC_0028671.jpg\n",
            "melanoma_ISIC_0001152_downsampled.jpg\n",
            "melanoma_ISIC_0009868.jpg\n",
            "melanoma_ISIC_0009950.jpg\n",
            "melanoma_ISIC_0009955.jpg\n",
            "nvl_ISIC_0010249.jpg\n",
            "nvl_ISIC_0010255.jpg\n",
            "nvl_ISIC_0010348.jpg\n",
            "nvl_ISIC_0010357.jpg\n"
          ]
        }
      ],
      "source": [
        "# Read and preprocess the new dataset\n",
        "new_data = []\n",
        "\n",
        "# Iterate through the files in the new dataset directory\n",
        "for filename in os.listdir(F_DIR):\n",
        "    try:\n",
        "        image_path = os.path.join(F_DIR, filename)\n",
        "        image = cv2.imread(image_path)\n",
        "        image_from_array = Image.fromarray(image, 'RGB')\n",
        "        size_image = image_from_array.resize((224, 224))\n",
        "        new_data.append(np.array(size_image))\n",
        "        print(filename)\n",
        "    except Exception as e:\n",
        "        print(f\"Error processing {filename}: {str(e)}\")"
      ]
    },
    {
      "cell_type": "code",
      "execution_count": null,
      "metadata": {
        "id": "rOpKRnqEPz-9"
      },
      "outputs": [],
      "source": [
        "# Convert the list to a numpy array\n",
        "new_data = np.array(new_data)\n",
        "\n",
        "# Normalize the new dataset\n",
        "new_data = new_data.astype('float32') / 255"
      ]
    },
    {
      "cell_type": "code",
      "execution_count": null,
      "metadata": {
        "id": "m82S93CcPz-9"
      },
      "outputs": [],
      "source": [
        "# Make predictions on the new dataset\n",
        "new_predictions = model.predict(new_data)"
      ]
    },
    {
      "cell_type": "code",
      "execution_count": null,
      "metadata": {
        "id": "ybC-mYpyPz--"
      },
      "outputs": [],
      "source": [
        "# Convert the predictions to class labels\n",
        "predicted_labels = np.argmax(new_predictions, axis=1)"
      ]
    },
    {
      "cell_type": "code",
      "execution_count": null,
      "metadata": {
        "id": "jzO48lAwPz--",
        "outputId": "0aa83fc2-9ee8-46d5-d6ad-1b8771b7b2ed"
      },
      "outputs": [
        {
          "name": "stdout",
          "output_type": "stream",
          "text": [
            "Predicted Labels: [0 2 0 2 0 0 1 2 2 2 1 2 2 2]\n"
          ]
        }
      ],
      "source": [
        "# Print the predicted labels or perform further analysis as needed\n",
        "print(\"Predicted Labels:\", predicted_labels)"
      ]
    },
    {
      "cell_type": "code",
      "execution_count": null,
      "metadata": {
        "id": "KiNgmfrvPz--"
      },
      "outputs": [],
      "source": [
        "true_labels_CN1 = np.array([0, 0, 0, 0, 0, 0, 1, 1, 1, 1, 2, 2, 2, 2])"
      ]
    },
    {
      "cell_type": "code",
      "execution_count": null,
      "metadata": {
        "id": "Y0XfX8ZAPz-_",
        "outputId": "3d735652-9e35-4c2d-abf1-311516d083e7"
      },
      "outputs": [
        {
          "data": {
            "image/png": "[encoded data removed]",
            "text/plain": [
              "<Figure size 432x288 with 2 Axes>"
            ]
          },
          "metadata": {},
          "output_type": "display_data"
        }
      ],
      "source": [
        "# Create the confusion matrix\n",
        "conf_matrix = confusion_matrix(true_labels_CN1, predicted_labels)\n",
        "\n",
        "# Plot the confusion matrix as a heatmap\n",
        "sns.heatmap(conf_matrix, annot=True, fmt='d', cmap='Blues', xticklabels=['Class 0', 'Class 1', 'Class 2'],\n",
        "            yticklabels=['Class 0', 'Class 1', 'Class 2'])\n",
        "\n",
        "plt.title('Confusion Matrix')\n",
        "plt.xlabel('Predicted Labels')\n",
        "plt.ylabel('True Labels')\n",
        "plt.show()"
      ]
    },
    {
      "cell_type": "code",
      "execution_count": null,
      "metadata": {
        "id": "DSDgqYeLPz-_",
        "outputId": "7f7970a2-105f-4379-c36d-69d0affffd7b"
      },
      "outputs": [
        {
          "data": {
            "image/png": "[encoded data removed]",
            "text/plain": [
              "<Figure size 576x432 with 2 Axes>"
            ]
          },
          "metadata": {},
          "output_type": "display_data"
        }
      ],
      "source": [
        "# Create the confusion matrix\n",
        "conf_matrix = confusion_matrix(true_labels_CN1, predicted_labels)\n",
        "\n",
        "# Convert to percentages\n",
        "conf_matrix_percentage = conf_matrix / conf_matrix.sum(axis=1)[:, np.newaxis]\n",
        "\n",
        "# Set up the matplotlib figure\n",
        "plt.figure(figsize=(8, 6))\n",
        "\n",
        "# Create a heatmap with annotations and percentage format\n",
        "sns.heatmap(conf_matrix_percentage, annot=True, fmt=\".2%\", cmap=\"Blues\", xticklabels=[\"Class 0\", \"Class 1\", \"Class 2\"], yticklabels=[\"Class 0\", \"Class 1\", \"Class 2\"])\n",
        "\n",
        "plt.title('Confusion Matrix (Percentage)')\n",
        "plt.xlabel('Predicted Labels')\n",
        "plt.ylabel('True Labels')\n",
        "plt.show()"
      ]
    },
    {
      "cell_type": "code",
      "execution_count": null,
      "metadata": {
        "id": "p71reAQxPz-_",
        "outputId": "65eb3110-a4b7-428a-bf4b-de74eda3df37"
      },
      "outputs": [
        {
          "name": "stdout",
          "output_type": "stream",
          "text": [
            "Classification Report:\n",
            "             precision    recall  f1-score   support\n",
            "\n",
            "    Class 0       1.00      0.67      0.80         6\n",
            "    Class 1       0.50      0.25      0.33         4\n",
            "    Class 2       0.38      0.75      0.50         4\n",
            "\n",
            "avg / total       0.68      0.57      0.58        14\n",
            "\n"
          ]
        }
      ],
      "source": [
        "# Classification Report\n",
        "class_names = [\"Class 0\", \"Class 1\", \"Class 2\"]\n",
        "report = classification_report(true_labels_CN1, predicted_labels, target_names=class_names)\n",
        "\n",
        "print(\"Classification Report:\")\n",
        "print(report)"
      ]
    },
    {
      "cell_type": "code",
      "execution_count": null,
      "metadata": {
        "id": "NIvplkxTPz_A",
        "outputId": "a7f45fb8-7733-4ef8-8e14-7883f7d6e61f"
      },
      "outputs": [
        {
          "name": "stdout",
          "output_type": "stream",
          "text": [
            "Overall Accuracy: 0.5714\n"
          ]
        }
      ],
      "source": [
        "# Calculate the overall accuracy\n",
        "overall_accuracy = accuracy_score(true_labels_CN1, predicted_labels)\n",
        "\n",
        "# Print the overall accuracy\n",
        "print(f'Overall Accuracy: {overall_accuracy:.4f}')"
      ]
    },
    {
      "cell_type": "code",
      "execution_count": null,
      "metadata": {
        "id": "XNRVh4kjPz_A"
      },
      "outputs": [],
      "source": [
        "# Stopped testing on this model, as there is no improvement in the result and performance metrics."
      ]
    }
  ],
  "metadata": {
    "kernelspec": {
      "display_name": "Python 3",
      "language": "python",
      "name": "python3"
    },
    "language_info": {
      "codemirror_mode": {
        "name": "ipython",
        "version": 3
      },
      "file_extension": ".py",
      "mimetype": "text/x-python",
      "name": "python",
      "nbconvert_exporter": "python",
      "pygments_lexer": "ipython3",
      "version": "3.6.5"
    },
    "colab": {
      "provenance": []
    }
  },
  "nbformat": 4,
  "nbformat_minor": 0
}