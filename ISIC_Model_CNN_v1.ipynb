{
  "cells": [
    {
      "cell_type": "markdown",
      "metadata": {
        "id": "GprGaQHmPDgy"
      },
      "source": [
        "## Skin Cancer Detection using Machine Learning\n"
      ]
    },
    {
      "cell_type": "markdown",
      "metadata": {
        "id": "GLve2FKFPDg5"
      },
      "source": [
        "## Loading Libraries\n"
      ]
    },
    {
      "cell_type": "code",
      "execution_count": null,
      "metadata": {},
      "outputs": [],
      "source": []
    },
    {
      "cell_type": "code",
      "execution_count": 20,
      "metadata": {
        "id": "J8OWj00VPDg7"
      },
      "outputs": [],
      "source": [
        "# <==== Importing Neccesary libraries ===>\n",
        "import os\n",
        "import numpy as np\n",
        "from numpy import loadtxt\n",
        "import pandas as pd\n",
        "import matplotlib.pyplot as plt\n",
        "import seaborn as sns\n",
        "import itertools\n",
        "from PIL import Image\n",
        "import random\n",
        "from random import shuffle\n",
        "import cv2\n",
        "from tqdm import tqdm\n",
        "from PIL import Image\n",
        "from random import shuffle\n",
        "from itertools import cycle\n",
        "\n",
        "# <==== Tensorflow & Machine Learning lib ===>\n",
        "from tensorflow.keras.preprocessing import image\n",
        "from tensorflow.keras.preprocessing.image import ImageDataGenerator\n",
        "from tensorflow.keras.models import Sequential\n",
        "from tensorflow.keras import Model, layers\n",
        "from tensorflow.keras.models import load_model\n",
        "from tensorflow.keras.utils import to_categorical\n",
        "from tensorflow.keras.applications.imagenet_utils import preprocess_input, decode_predictions\n",
        "from tensorflow.keras.layers import Conv2D,MaxPooling2D,Dense,Flatten,Dropout\n",
        "from tensorflow.keras.callbacks import EarlyStopping, ModelCheckpoint, ReduceLROnPlateau\n",
        "from tensorflow.keras.applications.mobilenet_v2 import MobileNetV2\n",
        "\n",
        "# <==== Performance Metrics ===>\n",
        "from sklearn.metrics import confusion_matrix,classification_report\n",
        "from sklearn.metrics import confusion_matrix, classification_report, accuracy_score\n",
        "from sklearn.datasets import make_classification\n",
        "from sklearn.preprocessing import label_binarize\n",
        "from sklearn.metrics import roc_curve, auc"
      ]
    },
    {
      "cell_type": "code",
      "execution_count": 21,
      "metadata": {
        "id": "bQv-UnUrPDhA"
      },
      "outputs": [],
      "source": [
        "# setting path of directory\n",
        "B_DIR = \"ISIC_2019_ML/Bcc\"\n",
        "M_DIR =  \"ISIC_2019_ML/Melanoma\"\n",
        "N_DIR = \"ISIC_2019_ML/Navus\"\n",
        "I_dir = \"ISIC_2019_ML\"\n",
        "I_Var = \"ISIC_2019_ML/isic_vars\""
      ]
    },
    {
      "cell_type": "code",
      "execution_count": 25,
      "metadata": {
        "id": "1Sp4IIPpPDhB"
      },
      "outputs": [
        {
          "ename": "FileNotFoundError",
          "evalue": "[Errno 2] No such file or directory: 'ISIC_2019_ML/isic_vars/x_train.npy'",
          "output_type": "error",
          "traceback": [
            "\u001b[1;31m---------------------------------------------------------------------------\u001b[0m",
            "\u001b[1;31mFileNotFoundError\u001b[0m                         Traceback (most recent call last)",
            "Cell \u001b[1;32mIn[25], line 3\u001b[0m\n\u001b[0;32m      1\u001b[0m \u001b[38;5;66;03m# loading the saved variables\u001b[39;00m\n\u001b[0;32m      2\u001b[0m \u001b[38;5;66;03m#I_Var = \"ISIC_2019_ML/isic_vars\"\u001b[39;00m\n\u001b[1;32m----> 3\u001b[0m x_train \u001b[38;5;241m=\u001b[39m \u001b[43mnp\u001b[49m\u001b[38;5;241;43m.\u001b[39;49m\u001b[43mload\u001b[49m\u001b[43m(\u001b[49m\u001b[43mI_Var\u001b[49m\u001b[38;5;241;43m+\u001b[39;49m\u001b[38;5;124;43m\"\u001b[39;49m\u001b[38;5;124;43m/x_train.npy\u001b[39;49m\u001b[38;5;124;43m\"\u001b[39;49m\u001b[43m)\u001b[49m\n\u001b[0;32m      4\u001b[0m y_train \u001b[38;5;241m=\u001b[39m np\u001b[38;5;241m.\u001b[39mload(I_Var\u001b[38;5;241m+\u001b[39m\u001b[38;5;124m\"\u001b[39m\u001b[38;5;124m/y_train.npy\u001b[39m\u001b[38;5;124m\"\u001b[39m)\n\u001b[0;32m      5\u001b[0m x_test \u001b[38;5;241m=\u001b[39m np\u001b[38;5;241m.\u001b[39mload(I_Var\u001b[38;5;241m+\u001b[39m\u001b[38;5;124m\"\u001b[39m\u001b[38;5;124m/x_test.npy\u001b[39m\u001b[38;5;124m\"\u001b[39m)\n",
            "File \u001b[1;32m~\\AppData\\Roaming\\Python\\Python312\\site-packages\\numpy\\lib\\npyio.py:427\u001b[0m, in \u001b[0;36mload\u001b[1;34m(file, mmap_mode, allow_pickle, fix_imports, encoding, max_header_size)\u001b[0m\n\u001b[0;32m    425\u001b[0m     own_fid \u001b[38;5;241m=\u001b[39m \u001b[38;5;28;01mFalse\u001b[39;00m\n\u001b[0;32m    426\u001b[0m \u001b[38;5;28;01melse\u001b[39;00m:\n\u001b[1;32m--> 427\u001b[0m     fid \u001b[38;5;241m=\u001b[39m stack\u001b[38;5;241m.\u001b[39menter_context(\u001b[38;5;28;43mopen\u001b[39;49m\u001b[43m(\u001b[49m\u001b[43mos_fspath\u001b[49m\u001b[43m(\u001b[49m\u001b[43mfile\u001b[49m\u001b[43m)\u001b[49m\u001b[43m,\u001b[49m\u001b[43m \u001b[49m\u001b[38;5;124;43m\"\u001b[39;49m\u001b[38;5;124;43mrb\u001b[39;49m\u001b[38;5;124;43m\"\u001b[39;49m\u001b[43m)\u001b[49m)\n\u001b[0;32m    428\u001b[0m     own_fid \u001b[38;5;241m=\u001b[39m \u001b[38;5;28;01mTrue\u001b[39;00m\n\u001b[0;32m    430\u001b[0m \u001b[38;5;66;03m# Code to distinguish from NumPy binary files and pickles.\u001b[39;00m\n",
            "\u001b[1;31mFileNotFoundError\u001b[0m: [Errno 2] No such file or directory: 'ISIC_2019_ML/isic_vars/x_train.npy'"
          ]
        }
      ],
      "source": [
        "# loading the saved variables\n",
        "#I_Var = \"ISIC_2019_ML/isic_vars\"\n",
        "x_train = np.load(I_Var+\"/x_train.npy\")\n",
        "y_train = np.load(I_Var+\"/y_train.npy\")\n",
        "x_test = np.load(I_Var+\"/x_test.npy\")\n",
        "y_test = np.load(I_Var+\"/y_test.npy\")\n",
        "num_classes = np.load(I_Var+\"/num_classes.npy\")\n",
        "len_data = np.load(I_Var+\"/len_data.npy\")\n",
        "train_len = np.load(I_Var+\"/train_len.npy\")\n",
        "test_len = np.load(I_Var+\"/test_len.npy\")"
      ]
    },
    {
      "cell_type": "markdown",
      "metadata": {
        "id": "DlhAn-4QPDhD"
      },
      "source": [
        "## Model Building\n"
      ]
    },
    {
      "cell_type": "code",
      "execution_count": null,
      "metadata": {
        "id": "I9b_kHb5PDhF",
        "outputId": "52a62a62-1560-4431-c7c1-5c6eb1115a90"
      },
      "outputs": [
        {
          "name": "stdout",
          "output_type": "stream",
          "text": [
            "Model: \"sequential\"\n",
            "_________________________________________________________________\n",
            "Layer (type)                 Output Shape              Param #   \n",
            "=================================================================\n",
            "conv2d (Conv2D)              (None, 222, 222, 32)      896       \n",
            "_________________________________________________________________\n",
            "max_pooling2d (MaxPooling2D) (None, 111, 111, 32)      0         \n",
            "_________________________________________________________________\n",
            "conv2d_1 (Conv2D)            (None, 109, 109, 64)      18496     \n",
            "_________________________________________________________________\n",
            "max_pooling2d_1 (MaxPooling2 (None, 54, 54, 64)        0         \n",
            "_________________________________________________________________\n",
            "conv2d_2 (Conv2D)            (None, 52, 52, 128)       73856     \n",
            "_________________________________________________________________\n",
            "max_pooling2d_2 (MaxPooling2 (None, 26, 26, 128)       0         \n",
            "_________________________________________________________________\n",
            "flatten (Flatten)            (None, 86528)             0         \n",
            "_________________________________________________________________\n",
            "dense (Dense)                (None, 512)               44302848  \n",
            "_________________________________________________________________\n",
            "dropout (Dropout)            (None, 512)               0         \n",
            "_________________________________________________________________\n",
            "dense_1 (Dense)              (None, 3)                 1539      \n",
            "=================================================================\n",
            "Total params: 44,397,635\n",
            "Trainable params: 44,397,635\n",
            "Non-trainable params: 0\n",
            "_________________________________________________________________\n"
          ]
        }
      ],
      "source": [
        "from tensorflow.keras import Sequential\n",
        "from tensorflow.keras.layers import Conv2D, MaxPooling2D, Flatten, Dense, Dropout\n",
        "\n",
        "# Define the CNN model\n",
        "model = Sequential()\n",
        "\n",
        "# Convolutional layers\n",
        "model.add(Conv2D(32, (3, 3), activation='relu', input_shape=(224, 224, 3)))\n",
        "model.add(MaxPooling2D(pool_size=(2, 2)))\n",
        "model.add(Conv2D(64, (3, 3), activation='relu'))\n",
        "model.add(MaxPooling2D(pool_size=(2, 2)))\n",
        "model.add(Conv2D(128, (3, 3), activation='relu'))\n",
        "model.add(MaxPooling2D(pool_size=(2, 2)))\n",
        "\n",
        "# Flatten the output and add dense layers\n",
        "model.add(Flatten())\n",
        "model.add(Dense(512, activation='relu'))\n",
        "model.add(Dropout(0.5))\n",
        "model.add(Dense(num_classes, activation='softmax'))\n",
        "\n",
        "# Compile the model\n",
        "model.compile(optimizer='adam', loss='categorical_crossentropy', metrics=['accuracy'])\n",
        "\n",
        "# Display the model summary\n",
        "model.summary()"
      ]
    },
    {
      "cell_type": "markdown",
      "metadata": {
        "id": "hYp7COl-PDhG"
      },
      "source": [
        "reference: https://keras.io/api/callbacks/\n"
      ]
    },
    {
      "cell_type": "code",
      "execution_count": null,
      "metadata": {
        "id": "HBX5LqKiPDhI",
        "outputId": "bb7c70b4-d340-4075-85c3-f2b14d6e2008"
      },
      "outputs": [
        {
          "name": "stdout",
          "output_type": "stream",
          "text": [
            "Epoch 1/20\n",
            "243/243 [==============================] - 409s 2s/step - loss: 0.9529 - accuracy: 0.5465 - val_loss: 1.1125 - val_accuracy: 0.5232\n",
            "Epoch 2/20\n",
            "243/243 [==============================] - 386s 2s/step - loss: 0.8370 - accuracy: 0.6155 - val_loss: 0.8946 - val_accuracy: 0.5803\n",
            "Epoch 3/20\n",
            "243/243 [==============================] - 387s 2s/step - loss: 0.7865 - accuracy: 0.6455 - val_loss: 0.8117 - val_accuracy: 0.6406\n",
            "Epoch 4/20\n",
            "243/243 [==============================] - 385s 2s/step - loss: 0.7293 - accuracy: 0.6740 - val_loss: 0.7497 - val_accuracy: 0.6581\n",
            "Epoch 5/20\n",
            "243/243 [==============================] - 385s 2s/step - loss: 0.6816 - accuracy: 0.6982 - val_loss: 0.7301 - val_accuracy: 0.6658\n",
            "Epoch 6/20\n",
            "243/243 [==============================] - 389s 2s/step - loss: 0.6180 - accuracy: 0.7327 - val_loss: 0.7494 - val_accuracy: 0.6684\n",
            "Epoch 7/20\n",
            "243/243 [==============================] - 386s 2s/step - loss: 0.5487 - accuracy: 0.7663 - val_loss: 0.7680 - val_accuracy: 0.6807\n",
            "Epoch 8/20\n",
            "243/243 [==============================] - 389s 2s/step - loss: 0.4410 - accuracy: 0.8214 - val_loss: 0.7162 - val_accuracy: 0.6941\n",
            "Epoch 9/20\n",
            "243/243 [==============================] - 387s 2s/step - loss: 0.3970 - accuracy: 0.8437 - val_loss: 0.7309 - val_accuracy: 0.6905\n",
            "Epoch 10/20\n",
            "243/243 [==============================] - 389s 2s/step - loss: 0.3678 - accuracy: 0.8522 - val_loss: 0.7719 - val_accuracy: 0.6957\n",
            "Epoch 11/20\n",
            "243/243 [==============================] - 390s 2s/step - loss: 0.3482 - accuracy: 0.8632 - val_loss: 0.7650 - val_accuracy: 0.6957\n"
          ]
        }
      ],
      "source": [
        "# Set up callbacks\n",
        "# Stop training when a val_loss has stopped improving for a specified patience = 3.\n",
        "early_stopping = EarlyStopping(monitor='val_loss', patience=3, restore_best_weights=True)\n",
        "\n",
        "# ModelCheckpoint: Save the model after every epoch if the val_loss has improved.\n",
        "model_checkpoint = ModelCheckpoint('skin_cancer_model.h5', save_best_only=True)\n",
        "\n",
        "# Reduce learning rate when a metric val_loss has stopped improving.\n",
        "reduce_lr = ReduceLROnPlateau(monitor='val_loss', factor=0.1, patience=2, min_lr=0.00001)\n",
        "# min_lr: lower bound on the learning rate.\n",
        "\n",
        "# Train the model\n",
        "history = model.fit(x_train, y_train, epochs=20, batch_size=32, validation_split=0.2, callbacks=[early_stopping, model_checkpoint, reduce_lr])"
      ]
    },
    {
      "cell_type": "code",
      "execution_count": null,
      "metadata": {
        "id": "ZuBU0gXYPDhJ"
      },
      "outputs": [],
      "source": [
        "# Save the trained model\n",
        "# model = load_model('skin_cancer_model.h5')\n",
        "model.save('skin_cancer_model.h5')"
      ]
    },
    {
      "cell_type": "code",
      "execution_count": null,
      "metadata": {
        "id": "u-kvYTFWPDhJ"
      },
      "outputs": [],
      "source": [
        "# Load model\n",
        "model = load_model('skin_cancer_model.h5')"
      ]
    },
    {
      "cell_type": "markdown",
      "metadata": {
        "id": "LNUexOrLPDhK"
      },
      "source": [
        "## Model Evaluation\n"
      ]
    },
    {
      "cell_type": "code",
      "execution_count": null,
      "metadata": {
        "id": "jKS-BcuZPDhK",
        "outputId": "e752fb74-b751-4eed-ebc1-e8e59b2af723"
      },
      "outputs": [
        {
          "name": "stdout",
          "output_type": "stream",
          "text": [
            "76/76 [==============================] - 66s 785ms/step - loss: 0.7223 - accuracy: 0.7108\n",
            "Test Loss: 0.7223, Test Accuracy: 0.7108\n"
          ]
        }
      ],
      "source": [
        "# Evaluate the model on the test set\n",
        "test_loss, test_accuracy = model.evaluate(x_test, y_test)\n",
        "print(f'Test Loss: {test_loss:.4f}, Test Accuracy: {test_accuracy:.4f}')"
      ]
    },
    {
      "cell_type": "code",
      "execution_count": null,
      "metadata": {
        "id": "mNAkvuLlPDhL"
      },
      "outputs": [],
      "source": [
        "# Make predictions using the loaded model\n",
        "y_pred = model.predict(x_test)\n",
        "\n",
        "# Convert the one-hot encoded labels back to integer labels\n",
        "y_true = np.argmax(y_test, axis=1)\n",
        "y_pred_classes = np.argmax(y_pred, axis=1)"
      ]
    },
    {
      "cell_type": "markdown",
      "metadata": {
        "id": "tMShtVXQPDhL"
      },
      "source": [
        "reference: https://onestopdataanalysis.com/confusion-matrix-python/\n"
      ]
    },
    {
      "cell_type": "code",
      "execution_count": null,
      "metadata": {
        "id": "jCQ9WQsNPDhM",
        "outputId": "4fd7891a-8ab5-408c-c64b-7ff7710208ed"
      },
      "outputs": [
        {
          "data": {
            "image/png": "[encoded data removed]",
            "text/plain": [
              "<Figure size 576x432 with 2 Axes>"
            ]
          },
          "metadata": {},
          "output_type": "display_data"
        },
        {
          "name": "stdout",
          "output_type": "stream",
          "text": [
            "Classification Report:\n",
            "             precision    recall  f1-score   support\n",
            "\n",
            "          0       0.73      0.76      0.75       638\n",
            "          1       0.68      0.67      0.68       894\n",
            "          2       0.72      0.72      0.72       895\n",
            "\n",
            "avg / total       0.71      0.71      0.71      2427\n",
            "\n"
          ]
        },
        {
          "data": {
            "image/png": "[encoded data removed]",
            "text/plain": [
              "<Figure size 720x432 with 1 Axes>"
            ]
          },
          "metadata": {},
          "output_type": "display_data"
        },
        {
          "name": "stdout",
          "output_type": "stream",
          "text": [
            "Weighted Precision: 0.7103\n",
            "Weighted Recall: 0.7108\n",
            "Weighted F1 Score: 0.7104\n"
          ]
        }
      ],
      "source": [
        "# import seaborn as sns\n",
        "# from sklearn.metrics import precision_score, recall_score, f1_score\n",
        "# from sklearn.metrics import roc_curve, auc\n",
        "# import matplotlib.pyplot as plt\n",
        "\n",
        "# Confusion Matrix\n",
        "conf_matrix = confusion_matrix(y_true, y_pred_classes)\n",
        "\n",
        "# Plot Confusion Matrix\n",
        "plt.figure(figsize=(8, 6))\n",
        "sns.heatmap(conf_matrix, annot=True, fmt='d', cmap='Blues', xticklabels=['Basal', 'Melanoma', 'Nevus'], yticklabels=['Basal', 'Melanoma', 'Nevus'])\n",
        "plt.xlabel('Predicted')\n",
        "plt.ylabel('Actual')\n",
        "plt.title('Confusion Matrix')\n",
        "plt.show()\n",
        "\n",
        "# Classification Report\n",
        "class_report = classification_report(y_true, y_pred_classes)\n",
        "print(\"Classification Report:\")\n",
        "print(class_report)\n",
        "\n",
        "# Compute ROC curves for each class\n",
        "fpr = dict()\n",
        "tpr = dict()\n",
        "roc_auc = dict()\n",
        "\n",
        "for i in range(num_classes):\n",
        "    fpr[i], tpr[i], _ = roc_curve(y_test[:, i], y_pred[:, i])\n",
        "    roc_auc[i] = auc(fpr[i], tpr[i])\n",
        "\n",
        "# ROC Curve\n",
        "plt.figure(figsize=(10, 6))\n",
        "for i in range(num_classes):\n",
        "    plt.plot(fpr[i], tpr[i], label=f'Class {i} (AUC = {roc_auc[i]:.2f})')\n",
        "\n",
        "plt.plot([0, 1], [0, 1], 'k--', lw=2)\n",
        "plt.xlabel('False Positive Rate')\n",
        "plt.ylabel('True Positive Rate')\n",
        "plt.title('ROC Curve for Each Class')\n",
        "plt.legend(loc=\"lower right\")\n",
        "plt.show()\n",
        "\n",
        "# Precision, Recall, F1 Score\n",
        "precision = precision_score(y_true, y_pred_classes, average='weighted')\n",
        "recall = recall_score(y_true, y_pred_classes, average='weighted')\n",
        "f1 = f1_score(y_true, y_pred_classes, average='weighted')\n",
        "\n",
        "print(f'Weighted Precision: {precision:.4f}')\n",
        "print(f'Weighted Recall: {recall:.4f}')\n",
        "print(f'Weighted F1 Score: {f1:.4f}')\n"
      ]
    },
    {
      "cell_type": "markdown",
      "metadata": {
        "id": "om68RqIIPDhO"
      },
      "source": [
        "## Model Evaluation on Testing Data\n"
      ]
    },
    {
      "cell_type": "code",
      "execution_count": null,
      "metadata": {
        "id": "hvXPg-EJPDhP"
      },
      "outputs": [],
      "source": [
        "import os\n",
        "import cv2\n",
        "import numpy as np\n",
        "from PIL import Image\n",
        "from tensorflow.keras.models import load_model\n",
        "from tensorflow.keras.utils import to_categorical\n",
        "\n",
        "# Set the path to the new dataset directory\n",
        "F_DIR = \"ISIC_2019_ML/Test_Data_3\""
      ]
    },
    {
      "cell_type": "code",
      "execution_count": 2,
      "metadata": {
        "id": "raNPkmm6PDhQ"
      },
      "outputs": [
        {
          "ename": "NameError",
          "evalue": "name 'load_model' is not defined",
          "output_type": "error",
          "traceback": [
            "\u001b[1;31m---------------------------------------------------------------------------\u001b[0m",
            "\u001b[1;31mNameError\u001b[0m                                 Traceback (most recent call last)",
            "Cell \u001b[1;32mIn[2], line 2\u001b[0m\n\u001b[0;32m      1\u001b[0m \u001b[38;5;66;03m#Testing -  Load model\u001b[39;00m\n\u001b[1;32m----> 2\u001b[0m model \u001b[38;5;241m=\u001b[39m \u001b[43mload_model\u001b[49m(\u001b[38;5;124m'\u001b[39m\u001b[38;5;124mskin_cancer_model.h5\u001b[39m\u001b[38;5;124m'\u001b[39m)\n",
            "\u001b[1;31mNameError\u001b[0m: name 'load_model' is not defined"
          ]
        }
      ],
      "source": [
        "#Testing -  Load model\n",
        "model = load_model('skin_cancer_model.h5')"
      ]
    },
    {
      "cell_type": "code",
      "execution_count": null,
      "metadata": {
        "id": "fyuq-qZmPDhR"
      },
      "outputs": [],
      "source": [
        "# Read and preprocess the new dataset\n",
        "new_data = []\n",
        "True_labels = []\n",
        "\n",
        "# Iterate through the files\n",
        "for filename in os.listdir(F_DIR):\n",
        "    try:\n",
        "        image_path = os.path.join(F_DIR, filename)\n",
        "        image = cv2.imread(image_path)\n",
        "        image_from_array = Image.fromarray(image, 'RGB')\n",
        "        size_image = image_from_array.resize((224, 224))\n",
        "        new_data.append(np.array(size_image))\n",
        "        # Extract labels\n",
        "        if filename[0] == 'b':\n",
        "            True_labels.append(0)\n",
        "        elif filename[0] == 'm':\n",
        "            True_labels.append(1)\n",
        "        elif filename[0] == 'n':\n",
        "            True_labels.append(2)\n",
        "\n",
        "    except Exception as e:\n",
        "        print(f\"Error processing {filename}: {str(e)}\")"
      ]
    },
    {
      "cell_type": "code",
      "execution_count": null,
      "metadata": {
        "id": "El55F5csPDhS"
      },
      "outputs": [],
      "source": [
        "# Convert the list to a numpy array\n",
        "new_data = np.array(new_data)\n",
        "\n",
        "# Normalize the new dataset\n",
        "new_data = new_data.astype('float32') / 255"
      ]
    },
    {
      "cell_type": "code",
      "execution_count": null,
      "metadata": {
        "id": "6rEbFjfAPDhT"
      },
      "outputs": [],
      "source": [
        "# Make predictions on the new dataset\n",
        "new_predictions = model.predict(new_data)"
      ]
    },
    {
      "cell_type": "code",
      "execution_count": null,
      "metadata": {
        "id": "gaEOwh0UPDhT"
      },
      "outputs": [],
      "source": [
        "# Convert the predictions to class labels\n",
        "predicted_labels = np.argmax(new_predictions, axis=1)"
      ]
    },
    {
      "cell_type": "code",
      "execution_count": null,
      "metadata": {
        "id": "gbin3fDhPDhU",
        "outputId": "b078272f-4496-42c9-d09d-f18482f02fb2"
      },
      "outputs": [
        {
          "name": "stdout",
          "output_type": "stream",
          "text": [
            "Predicted Labels: [0 0 0 1 2 0 0 0 0 1 0 0 0 0 0 0 0 0 0 2 0 0 0 0 0 0 0 0 0 0 0 0 0 0 0 0 2\n",
            " 0 1 0 0 0 0 0 2 0 0 0 0 2 0 0 0 0 0 0 0 0 0 0 0 0 0 2 0 0 0 0 0 0 0 0 0 0\n",
            " 0 0 0 0 0 0 0 0 0 0 0 0 0 0 0 2 0 0 2 0 2 0 0 0 0 0 0 0 0 0 0 0 0 0 0 0 1\n",
            " 0 0 0 0 0 0 0 0 0 0 0 0 1 0 0 0 0 0 0 0 0 0 0 0 0 2 0 0 0 0 0 0 0 0 0 0 1\n",
            " 0 0 0 0 0 0 0 0 0 0 0 0 0 0 0 0 0 0 2 0 1 0 0 0 0 0 0 0 0 1 1 0 1 0 0 0 0\n",
            " 0 0 0 0 0 0 0 0 0 0 0 0 1 0 0 0 0 0 0 0 0 0 1 1 0 0 2 1 1 1 1 1 2 1 1 1 1\n",
            " 1 1 1 1 1 1 0 1 1 1 1 2 1 1 2 1 1 1 2 1 1 1 1 1 2 1 1 1 1 1 0 1 2 1 1 1 2\n",
            " 1 1 1 1 1 2 0 1 1 1 1 1 2 1 1 1 1 1 2 1 2 1 1 1 2 1 0 1 1 1 1 1 2 1 2 2 1\n",
            " 1 1 1 1 1 0 1 2 1 1 1 1 1 1 0 2 1 1 1 1 1 1 0 1 1 1 1 1 1 0 1 1 1 1 1 1 1\n",
            " 1 1 1 1 0 1 1 0 1 0 1 1 1 0 1 1 1 1 2 1 1 1 1 1 1 1 1 1 1 1 1 2 1 1 1 0 1\n",
            " 1 2 1 1 1 1 1 1 1 1 1 1 1 1 1 1 1 1 1 2 1 1 1 1 1 1 1 1 1 0 1 1 1 1 2 1 2\n",
            " 1 1 0 1 1 1 1 2 2 2 2 2 2 2 2 2 2 2 2 2 2 2 1 2 2 1 2 2 2 2 2 2 2 2 2 2 2\n",
            " 2 2 2 2 2 2 2 2 2 2 2 2 2 2 2 2 2 1 2 2 2 2 2 2 1 2 2 2 2 1 2 2 2 2 2 2 2\n",
            " 2 2 2 2 2 2 2 0 2 2 2 2 2 2 2 2 2 2 1 2 2 2 2 2 2 2 2 0 2 2 2 2 2 2 2 2 2\n",
            " 2 0 2 2 2 2 2 2 2 2 2 2 2 2 2 2 2 2 2 2 2 2 2 2 2 2 2 2 2 2 2 2 2 2 2 2 2\n",
            " 2 2 0 2 2 2 2 1 2 2 2 2 2 0 2 2 2 2 2 1 2 2 2 2 2 2 2 2 2 1 2 2 2 0 2 2 2\n",
            " 2 2 2 2 1 2 2 2 2 2 2 2 2 2 2 2 2 2 2 2 0 2 2 2 2 2 2 2 1]\n"
          ]
        }
      ],
      "source": [
        "# Print the predicted labels or perform further analysis as needed\n",
        "print(\"Predicted Labels:\", predicted_labels)"
      ]
    },
    {
      "cell_type": "code",
      "execution_count": null,
      "metadata": {
        "id": "SjUuvcTZPDhV"
      },
      "outputs": [],
      "source": [
        "true_labels_CN1 = True_labels"
      ]
    },
    {
      "cell_type": "code",
      "execution_count": null,
      "metadata": {
        "id": "UuMOUVmMPDhW",
        "outputId": "b13c5915-677f-41d5-e543-0608a8381116"
      },
      "outputs": [
        {
          "data": {
            "image/png": "[encoded data removed]",
            "text/plain": [
              "<Figure size 432x288 with 2 Axes>"
            ]
          },
          "metadata": {},
          "output_type": "display_data"
        }
      ],
      "source": [
        "# Create the confusion matrix\n",
        "conf_matrix = confusion_matrix(true_labels_CN1, predicted_labels)\n",
        "\n",
        "# Plot the confusion matrix as a heatmap\n",
        "sns.heatmap(conf_matrix, annot=True, fmt='d', cmap='Blues', xticklabels=['Class 0', 'Class 1', 'Class 2'],\n",
        "            yticklabels=['Class 0', 'Class 1', 'Class 2'])\n",
        "\n",
        "plt.title('Confusion Matrix')\n",
        "plt.xlabel('Predicted Labels')\n",
        "plt.ylabel('True Labels')\n",
        "plt.show()"
      ]
    },
    {
      "cell_type": "code",
      "execution_count": null,
      "metadata": {
        "id": "ndjcotI8PDhX",
        "outputId": "38d2e26d-e231-4ae8-c982-cb9ed65962e7"
      },
      "outputs": [
        {
          "data": {
            "image/png": "[encoded data removed]",
            "text/plain": [
              "<Figure size 576x432 with 2 Axes>"
            ]
          },
          "metadata": {},
          "output_type": "display_data"
        }
      ],
      "source": [
        "# Create the confusion matrix\n",
        "conf_matrix = confusion_matrix(true_labels_CN1, predicted_labels)\n",
        "\n",
        "# Convert to percentages\n",
        "conf_matrix_percentage = conf_matrix / conf_matrix.sum(axis=1)[:, np.newaxis]\n",
        "\n",
        "# Set up the matplotlib figure\n",
        "plt.figure(figsize=(8, 6))\n",
        "\n",
        "# Create a heatmap with annotations and percentage format\n",
        "sns.heatmap(conf_matrix_percentage, annot=True, fmt=\".2%\", cmap=\"Blues\", xticklabels=[\"Class 0\", \"Class 1\", \"Class 2\"], yticklabels=[\"Class 0\", \"Class 1\", \"Class 2\"])\n",
        "\n",
        "plt.title('Confusion Matrix (Percentage)')\n",
        "plt.xlabel('Predicted Labels')\n",
        "plt.ylabel('True Labels')\n",
        "\n",
        "plt.show()"
      ]
    },
    {
      "cell_type": "code",
      "execution_count": null,
      "metadata": {
        "id": "58FG0qjgPDhY",
        "outputId": "4623fc1f-9883-4cef-90a9-633957dd9df4"
      },
      "outputs": [
        {
          "name": "stdout",
          "output_type": "stream",
          "text": [
            "Classification Report:\n",
            "             precision    recall  f1-score   support\n",
            "\n",
            "    Class 0       0.89      0.89      0.89       207\n",
            "    Class 1       0.88      0.80      0.84       207\n",
            "    Class 2       0.84      0.91      0.88       207\n",
            "\n",
            "avg / total       0.87      0.87      0.87       621\n",
            "\n"
          ]
        }
      ],
      "source": [
        "# Classification Report\n",
        "class_names = [\"Class 0\", \"Class 1\", \"Class 2\"]\n",
        "report = classification_report(true_labels_CN1, predicted_labels, target_names=class_names)\n",
        "\n",
        "print(\"Classification Report:\")\n",
        "print(report)"
      ]
    },
    {
      "cell_type": "code",
      "execution_count": null,
      "metadata": {
        "id": "UW-i8xggPDhY",
        "outputId": "38d7b9c5-19be-47fc-ec14-b3a7eea7877a"
      },
      "outputs": [
        {
          "name": "stdout",
          "output_type": "stream",
          "text": [
            "Overall Accuracy: 0.8696\n"
          ]
        }
      ],
      "source": [
        "# Calculate the overall accuracy\n",
        "overall_accuracy = accuracy_score(true_labels_CN1, predicted_labels)\n",
        "\n",
        "# Print the overall accuracy\n",
        "print(f'Overall Accuracy: {overall_accuracy:.4f}')"
      ]
    }
  ],
  "metadata": {
    "colab": {
      "provenance": []
    },
    "kernelspec": {
      "display_name": "Python 3",
      "language": "python",
      "name": "python3"
    },
    "language_info": {
      "codemirror_mode": {
        "name": "ipython",
        "version": 3
      },
      "file_extension": ".py",
      "mimetype": "text/x-python",
      "name": "python",
      "nbconvert_exporter": "python",
      "pygments_lexer": "ipython3",
      "version": "3.12.0"
    }
  },
  "nbformat": 4,
  "nbformat_minor": 0
}
